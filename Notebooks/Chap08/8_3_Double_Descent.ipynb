{
 "cells": [
  {
   "cell_type": "markdown",
   "metadata": {
    "colab_type": "text",
    "id": "view-in-github"
   },
   "source": [
    "<a href=\"https://colab.research.google.com/github/udlbook/udlbook/blob/main/Notebooks/Chap08/8_3_Double_Descent.ipynb\" target=\"_parent\"><img src=\"https://colab.research.google.com/assets/colab-badge.svg\" alt=\"Open In Colab\"/></a>"
   ]
  },
  {
   "cell_type": "markdown",
   "metadata": {
    "id": "L6chybAVFJW2"
   },
   "source": [
    "# **Notebook 8.3: Double Descent**\n",
    "\n",
    "This notebook investigates double descent as described in section 8.4 of the book.\n",
    "\n",
    "It uses the MNIST-1D database which can be found at https://github.com/greydanus/mnist1d\n",
    "\n",
    "Work through the cells below, running each cell in turn. In various places you will see the words \"TO DO\". Follow the instructions at these places and make predictions about what is going to happen or write code to complete the functions.\n",
    "\n",
    "Contact me at udlbookmail@gmail.com if you find any mistakes or have any suggestions."
   ]
  },
  {
   "cell_type": "code",
   "execution_count": 4,
   "metadata": {
    "id": "fn9BP5N5TguP",
    "tags": []
   },
   "outputs": [
    {
     "name": "stdout",
     "output_type": "stream",
     "text": [
      "fatal: destination path 'mnist1d' already exists and is not an empty directory.\n"
     ]
    }
   ],
   "source": [
    "# Run this if you're in a Colab to make a local copy of the MNIST 1D repository\n",
    "!git clone https://github.com/greydanus/mnist1d"
   ]
  },
  {
   "cell_type": "code",
   "execution_count": 5,
   "metadata": {
    "id": "hFxuHpRqTgri",
    "tags": []
   },
   "outputs": [
    {
     "name": "stdout",
     "output_type": "stream",
     "text": [
      "Using: cpu\n"
     ]
    }
   ],
   "source": [
    "import torch, torch.nn as nn\n",
    "from torch.utils.data import TensorDataset, DataLoader\n",
    "from torch.optim.lr_scheduler import StepLR\n",
    "import numpy as np\n",
    "import matplotlib.pyplot as plt\n",
    "import mnist1d\n",
    "import random\n",
    "random.seed(0)\n",
    "\n",
    "# Try attaching to GPU -- Use \"Change Runtime Type to change to GPUT\"\n",
    "DEVICE = str(torch.device('cuda' if torch.cuda.is_available() else 'cpu'))\n",
    "print('Using:', DEVICE)"
   ]
  },
  {
   "cell_type": "code",
   "execution_count": 6,
   "metadata": {
    "id": "PW2gyXL5UkLU",
    "tags": []
   },
   "outputs": [
    {
     "name": "stdout",
     "output_type": "stream",
     "text": [
      "Did or could not load data from ./mnist1d_data.pkl. Rebuilding dataset...\n",
      "Examples in training set: 4000\n",
      "Examples in test set: 4000\n",
      "Length of each example: 40\n"
     ]
    }
   ],
   "source": [
    "args = mnist1d.data.get_dataset_args()\n",
    "args.num_samples = 8000\n",
    "args.train_split = 0.5\n",
    "args.corr_noise_scale = 0.25\n",
    "args.iid_noise_scale=2e-2\n",
    "data = mnist1d.data.get_dataset(args, path='./mnist1d_data.pkl', download=False, regenerate=True)\n",
    "\n",
    "# Add 15% noise to training labels\n",
    "for c_y in range(len(data['y'])):\n",
    "    random_number = random.random()\n",
    "    if random_number < 0.15 :\n",
    "        random_int = int(random.random() * 10)\n",
    "        data['y'][c_y] = random_int\n",
    "\n",
    "# The training and test input and outputs are in\n",
    "# data['x'], data['y'], data['x_test'], and data['y_test']\n",
    "print(\"Examples in training set: {}\".format(len(data['y'])))\n",
    "print(\"Examples in test set: {}\".format(len(data['y_test'])))\n",
    "print(\"Length of each example: {}\".format(data['x'].shape[-1]))"
   ]
  },
  {
   "cell_type": "code",
   "execution_count": 7,
   "metadata": {
    "id": "hAIvZOAlTnk9",
    "tags": []
   },
   "outputs": [],
   "source": [
    "# Initialize the parameters with He initialization\n",
    "def weights_init(layer_in):\n",
    "  if isinstance(layer_in, nn.Linear):\n",
    "    nn.init.kaiming_uniform_(layer_in.weight)\n",
    "    layer_in.bias.data.fill_(0.0)\n",
    "\n",
    "# Return an initialized model with two hidden layers and n_hidden hidden units at each\n",
    "def get_model(n_hidden):\n",
    "\n",
    "  D_i = 40    # Input dimensions\n",
    "  D_k = n_hidden   # Hidden dimensions\n",
    "  D_o = 10    # Output dimensions\n",
    "\n",
    "  # Define a model with two hidden layers of size 100\n",
    "  # And ReLU activations between them\n",
    "  model = nn.Sequential(\n",
    "  nn.Linear(D_i, D_k),\n",
    "  nn.ReLU(),\n",
    "  nn.Linear(D_k, D_k),\n",
    "  nn.ReLU(),\n",
    "  nn.Linear(D_k, D_o))\n",
    "\n",
    "  # Call the function you just defined\n",
    "  model.apply(weights_init)\n",
    "\n",
    "  # Return the model\n",
    "  return model ;"
   ]
  },
  {
   "cell_type": "code",
   "execution_count": 8,
   "metadata": {
    "id": "AazlQhheWmHk",
    "tags": []
   },
   "outputs": [],
   "source": [
    "def fit_model(model, data):\n",
    "\n",
    "  # choose cross entropy loss function (equation 5.24)\n",
    "  loss_function = torch.nn.CrossEntropyLoss()\n",
    "  # construct SGD optimizer and initialize learning rate and momentum\n",
    "  # optimizer = torch.optim.Adam(model.parameters(), lr=0.01)\n",
    "  optimizer = torch.optim.SGD(model.parameters(), lr = 0.01, momentum=0.9)\n",
    "\n",
    "\n",
    "  # create 100 dummy data points and store in data loader class\n",
    "  x_train = torch.tensor(data['x'].astype('float32'))\n",
    "  y_train = torch.tensor(data['y'].transpose().astype('long'))\n",
    "  x_test= torch.tensor(data['x_test'].astype('float32'))\n",
    "  y_test = torch.tensor(data['y_test'].astype('long'))\n",
    "\n",
    "  # load the data into a class that creates the batches\n",
    "  data_loader = DataLoader(TensorDataset(x_train,y_train), batch_size=100, shuffle=True, worker_init_fn=np.random.seed(1))\n",
    "\n",
    "  # loop over the dataset n_epoch times\n",
    "  n_epoch = 1000\n",
    "\n",
    "  for epoch in range(n_epoch):\n",
    "    # loop over batches\n",
    "    for i, batch in enumerate(data_loader):\n",
    "      # retrieve inputs and labels for this batch\n",
    "      x_batch, y_batch = batch\n",
    "      # zero the parameter gradients\n",
    "      optimizer.zero_grad()\n",
    "      # forward pass -- calculate model output\n",
    "      pred = model(x_batch)\n",
    "      # compute the loss\n",
    "      loss = loss_function(pred, y_batch)\n",
    "      # backward pass\n",
    "      loss.backward()\n",
    "      # SGD update\n",
    "      optimizer.step()\n",
    "\n",
    "    # Run whole dataset to get statistics -- normally wouldn't do this\n",
    "    pred_train = model(x_train)\n",
    "    pred_test = model(x_test)\n",
    "    _, predicted_train_class = torch.max(pred_train.data, 1)\n",
    "    _, predicted_test_class = torch.max(pred_test.data, 1)\n",
    "    errors_train = 100 - 100 * (predicted_train_class == y_train).float().sum() / len(y_train)\n",
    "    errors_test= 100 - 100 * (predicted_test_class == y_test).float().sum() / len(y_test)\n",
    "    losses_train = loss_function(pred_train, y_train).item()\n",
    "    losses_test= loss_function(pred_test, y_test).item()\n",
    "    if epoch%100 ==0 :\n",
    "      print(f'Epoch {epoch:5d}, train loss {losses_train:.6f}, train error {errors_train:3.2f},  test loss {losses_test:.6f}, test error {errors_test:3.2f}')\n",
    "\n",
    "  return errors_train, errors_test\n"
   ]
  },
  {
   "cell_type": "markdown",
   "metadata": {
    "id": "IcP4UPMudxPS"
   },
   "source": [
    "The following code produces the double descent curve by training the model with different numbers of hidden units and plotting the test error.\n",
    "\n",
    "TO DO:\n",
    "\n",
    "*Before* you run the code, and considering that there are 4000 training examples predict:<br>\n",
    "\n",
    "1.    At what capacity do you think the training error will become zero?\n",
    "2.   At what capacity do you expect the first minima of the double descent curve to appear?\n",
    "3. At what capacity do you expect the maximum of the double descent curve to appear?"
   ]
  },
  {
   "cell_type": "code",
   "execution_count": 10,
   "metadata": {
    "id": "K4OmBZGHWXpk",
    "tags": []
   },
   "outputs": [
    {
     "name": "stdout",
     "output_type": "stream",
     "text": [
      "Training model with   2 hidden variables\n",
      "Epoch     0, train loss 2.302407, train error 89.57,  test loss 2.302747, test error 90.30\n",
      "Epoch   100, train loss 2.302212, train error 89.57,  test loss 2.303396, test error 90.30\n",
      "Epoch   200, train loss 2.302207, train error 89.57,  test loss 2.303450, test error 90.30\n",
      "Epoch   300, train loss 2.302219, train error 89.57,  test loss 2.303259, test error 90.30\n",
      "Epoch   400, train loss 2.302211, train error 89.57,  test loss 2.303467, test error 90.30\n",
      "Epoch   500, train loss 2.302217, train error 89.57,  test loss 2.303318, test error 90.30\n",
      "Epoch   600, train loss 2.302212, train error 89.57,  test loss 2.303413, test error 90.30\n",
      "Epoch   700, train loss 2.302208, train error 89.57,  test loss 2.303397, test error 90.30\n",
      "Epoch   800, train loss 2.302210, train error 89.57,  test loss 2.303447, test error 90.30\n",
      "Epoch   900, train loss 2.302222, train error 89.57,  test loss 2.303438, test error 90.30\n",
      "Training model with   4 hidden variables\n",
      "Epoch     0, train loss 2.265154, train error 83.72,  test loss 2.254222, test error 82.78\n",
      "Epoch   100, train loss 1.793595, train error 65.72,  test loss 1.632147, test error 64.38\n",
      "Epoch   200, train loss 1.768881, train error 64.88,  test loss 1.592985, test error 62.95\n",
      "Epoch   300, train loss 1.736364, train error 62.95,  test loss 1.570081, test error 61.05\n",
      "Epoch   400, train loss 1.730752, train error 62.25,  test loss 1.575925, test error 60.88\n",
      "Epoch   500, train loss 1.730361, train error 62.60,  test loss 1.577867, test error 61.08\n",
      "Epoch   600, train loss 1.727271, train error 62.40,  test loss 1.577975, test error 60.50\n",
      "Epoch   700, train loss 1.725438, train error 62.72,  test loss 1.579920, test error 61.20\n",
      "Epoch   800, train loss 1.724622, train error 62.55,  test loss 1.576018, test error 61.03\n",
      "Epoch   900, train loss 1.728187, train error 62.45,  test loss 1.589676, test error 60.45\n",
      "Training model with   6 hidden variables\n",
      "Epoch     0, train loss 2.294024, train error 86.70,  test loss 2.295028, test error 87.10\n",
      "Epoch   100, train loss 1.729186, train error 62.75,  test loss 1.596168, test error 62.35\n",
      "Epoch   200, train loss 1.690453, train error 61.22,  test loss 1.575825, test error 61.45\n",
      "Epoch   300, train loss 1.668169, train error 59.58,  test loss 1.565528, test error 60.12\n",
      "Epoch   400, train loss 1.659575, train error 59.65,  test loss 1.574382, test error 59.88\n",
      "Epoch   500, train loss 1.656525, train error 59.55,  test loss 1.575905, test error 60.85\n",
      "Epoch   600, train loss 1.654215, train error 59.75,  test loss 1.587672, test error 60.95\n",
      "Epoch   700, train loss 1.657054, train error 59.28,  test loss 1.596432, test error 60.20\n",
      "Epoch   800, train loss 1.651238, train error 59.38,  test loss 1.603061, test error 60.40\n",
      "Epoch   900, train loss 1.651133, train error 60.12,  test loss 1.601984, test error 60.50\n",
      "Training model with   8 hidden variables\n",
      "Epoch     0, train loss 2.271019, train error 87.55,  test loss 2.265317, test error 87.43\n",
      "Epoch   100, train loss 1.619791, train error 55.88,  test loss 1.460326, test error 54.05\n",
      "Epoch   200, train loss 1.540627, train error 51.85,  test loss 1.343090, test error 49.85\n",
      "Epoch   300, train loss 1.518364, train error 52.00,  test loss 1.312446, test error 48.58\n",
      "Epoch   400, train loss 1.505810, train error 51.60,  test loss 1.312590, test error 48.38\n",
      "Epoch   500, train loss 1.495397, train error 51.25,  test loss 1.310810, test error 47.97\n",
      "Epoch   600, train loss 1.495581, train error 51.15,  test loss 1.330832, test error 48.92\n",
      "Epoch   700, train loss 1.481569, train error 50.92,  test loss 1.317806, test error 49.28\n",
      "Epoch   800, train loss 1.479571, train error 51.25,  test loss 1.320729, test error 48.62\n",
      "Epoch   900, train loss 1.478252, train error 50.80,  test loss 1.327532, test error 49.30\n",
      "Training model with  10 hidden variables\n",
      "Epoch     0, train loss 2.252254, train error 84.07,  test loss 2.236577, test error 84.07\n",
      "Epoch   100, train loss 1.541484, train error 52.25,  test loss 1.381748, test error 52.12\n",
      "Epoch   200, train loss 1.490326, train error 50.50,  test loss 1.355197, test error 50.25\n",
      "Epoch   300, train loss 1.464815, train error 49.67,  test loss 1.365500, test error 49.97\n",
      "Epoch   400, train loss 1.449552, train error 48.75,  test loss 1.362150, test error 49.92\n",
      "Epoch   500, train loss 1.450486, train error 48.75,  test loss 1.370695, test error 50.40\n",
      "Epoch   600, train loss 1.434899, train error 49.15,  test loss 1.371401, test error 50.40\n",
      "Epoch   700, train loss 1.433391, train error 48.53,  test loss 1.371111, test error 50.10\n",
      "Epoch   800, train loss 1.431405, train error 48.88,  test loss 1.370093, test error 49.70\n",
      "Epoch   900, train loss 1.418546, train error 48.30,  test loss 1.356508, test error 49.88\n",
      "Training model with  14 hidden variables\n",
      "Epoch     0, train loss 2.259244, train error 84.95,  test loss 2.247389, test error 84.38\n",
      "Epoch   100, train loss 1.479728, train error 49.47,  test loss 1.364418, test error 51.28\n",
      "Epoch   200, train loss 1.410903, train error 46.60,  test loss 1.363332, test error 50.60\n",
      "Epoch   300, train loss 1.373430, train error 46.70,  test loss 1.362537, test error 49.10\n",
      "Epoch   400, train loss 1.362010, train error 46.35,  test loss 1.388715, test error 50.70\n",
      "Epoch   500, train loss 1.334044, train error 45.10,  test loss 1.383229, test error 49.85\n",
      "Epoch   600, train loss 1.321438, train error 44.47,  test loss 1.426133, test error 50.72\n",
      "Epoch   700, train loss 1.311548, train error 44.45,  test loss 1.446421, test error 51.40\n",
      "Epoch   800, train loss 1.300619, train error 44.28,  test loss 1.457946, test error 52.10\n",
      "Epoch   900, train loss 1.301850, train error 44.10,  test loss 1.485227, test error 51.40\n",
      "Training model with  18 hidden variables\n",
      "Epoch     0, train loss 2.189109, train error 81.93,  test loss 2.148510, test error 80.18\n",
      "Epoch   100, train loss 1.334388, train error 43.12,  test loss 1.263629, test error 46.65\n",
      "Epoch   200, train loss 1.238707, train error 40.67,  test loss 1.287851, test error 46.85\n",
      "Epoch   300, train loss 1.201449, train error 39.33,  test loss 1.330155, test error 47.35\n",
      "Epoch   400, train loss 1.175232, train error 39.30,  test loss 1.384304, test error 47.55\n",
      "Epoch   500, train loss 1.154790, train error 38.95,  test loss 1.426731, test error 48.78\n",
      "Epoch   600, train loss 1.145797, train error 38.70,  test loss 1.458463, test error 48.42\n",
      "Epoch   700, train loss 1.143951, train error 39.05,  test loss 1.501023, test error 48.95\n",
      "Epoch   800, train loss 1.124152, train error 38.08,  test loss 1.531017, test error 49.15\n",
      "Epoch   900, train loss 1.118467, train error 37.88,  test loss 1.557483, test error 49.12\n",
      "Training model with  22 hidden variables\n",
      "Epoch     0, train loss 2.211918, train error 81.68,  test loss 2.201159, test error 82.28\n",
      "Epoch   100, train loss 1.309249, train error 42.88,  test loss 1.351748, test error 50.05\n",
      "Epoch   200, train loss 1.187127, train error 39.62,  test loss 1.406006, test error 50.62\n",
      "Epoch   300, train loss 1.109984, train error 36.40,  test loss 1.465670, test error 50.25\n",
      "Epoch   400, train loss 1.077524, train error 35.72,  test loss 1.542051, test error 51.75\n",
      "Epoch   500, train loss 1.047655, train error 34.90,  test loss 1.598472, test error 51.78\n",
      "Epoch   600, train loss 1.037264, train error 34.28,  test loss 1.654631, test error 52.53\n",
      "Epoch   700, train loss 1.023865, train error 33.93,  test loss 1.674014, test error 52.08\n",
      "Epoch   800, train loss 1.019939, train error 34.30,  test loss 1.710070, test error 52.47\n",
      "Epoch   900, train loss 1.012180, train error 34.18,  test loss 1.741301, test error 52.62\n",
      "Training model with  26 hidden variables\n",
      "Epoch     0, train loss 2.172870, train error 80.45,  test loss 2.130428, test error 78.88\n",
      "Epoch   100, train loss 1.258935, train error 41.55,  test loss 1.393879, test error 50.92\n",
      "Epoch   200, train loss 1.093346, train error 35.88,  test loss 1.515116, test error 52.40\n",
      "Epoch   300, train loss 1.009383, train error 33.70,  test loss 1.630582, test error 52.83\n",
      "Epoch   400, train loss 0.998346, train error 33.45,  test loss 1.733983, test error 53.67\n",
      "Epoch   500, train loss 0.946639, train error 32.35,  test loss 1.806284, test error 54.65\n",
      "Epoch   600, train loss 0.934938, train error 32.07,  test loss 1.856335, test error 54.38\n",
      "Epoch   700, train loss 0.937173, train error 32.75,  test loss 1.904589, test error 53.78\n",
      "Epoch   800, train loss 0.898931, train error 31.00,  test loss 1.984429, test error 55.55\n",
      "Epoch   900, train loss 0.885420, train error 31.22,  test loss 1.993101, test error 54.55\n",
      "Training model with  30 hidden variables\n",
      "Epoch     0, train loss 2.172162, train error 79.72,  test loss 2.137879, test error 79.28\n",
      "Epoch   100, train loss 1.150195, train error 38.70,  test loss 1.357864, test error 50.35\n",
      "Epoch   200, train loss 0.993627, train error 34.43,  test loss 1.505065, test error 51.53\n",
      "Epoch   300, train loss 0.921907, train error 30.95,  test loss 1.672917, test error 52.33\n",
      "Epoch   400, train loss 0.870351, train error 30.15,  test loss 1.854169, test error 53.80\n",
      "Epoch   500, train loss 0.815181, train error 27.82,  test loss 2.001302, test error 54.78\n",
      "Epoch   600, train loss 0.791301, train error 27.43,  test loss 2.119289, test error 54.22\n",
      "Epoch   700, train loss 0.759757, train error 26.60,  test loss 2.223992, test error 54.88\n",
      "Epoch   800, train loss 0.735745, train error 26.10,  test loss 2.374375, test error 55.70\n",
      "Epoch   900, train loss 0.726576, train error 25.88,  test loss 2.525123, test error 56.55\n",
      "Training model with  35 hidden variables\n",
      "Epoch     0, train loss 2.150736, train error 79.75,  test loss 2.099350, test error 78.40\n",
      "Epoch   100, train loss 1.082665, train error 35.93,  test loss 1.345079, test error 49.08\n",
      "Epoch   200, train loss 0.848682, train error 27.55,  test loss 1.611281, test error 51.90\n",
      "Epoch   300, train loss 0.717259, train error 23.78,  test loss 1.929028, test error 52.72\n",
      "Epoch   400, train loss 0.644714, train error 21.65,  test loss 2.280298, test error 54.17\n",
      "Epoch   500, train loss 0.593763, train error 20.70,  test loss 2.603853, test error 54.72\n",
      "Epoch   600, train loss 0.577329, train error 20.62,  test loss 2.899784, test error 54.97\n",
      "Epoch   700, train loss 0.537050, train error 18.93,  test loss 3.233284, test error 56.38\n",
      "Epoch   800, train loss 0.501515, train error 18.15,  test loss 3.470307, test error 56.95\n",
      "Epoch   900, train loss 0.482700, train error 16.62,  test loss 3.802550, test error 56.35\n",
      "Training model with  40 hidden variables\n",
      "Epoch     0, train loss 2.087298, train error 76.80,  test loss 2.026548, test error 75.72\n",
      "Epoch   100, train loss 0.940894, train error 30.45,  test loss 1.451841, test error 50.78\n",
      "Epoch   200, train loss 0.652218, train error 21.22,  test loss 1.937618, test error 52.45\n",
      "Epoch   300, train loss 0.503906, train error 16.95,  test loss 2.485888, test error 53.35\n",
      "Epoch   400, train loss 0.405168, train error 13.72,  test loss 3.222146, test error 54.90\n",
      "Epoch   500, train loss 0.346974, train error 11.65,  test loss 3.956941, test error 56.60\n",
      "Epoch   600, train loss 0.286175, train error 9.55,  test loss 4.701624, test error 56.60\n",
      "Epoch   700, train loss 0.323335, train error 11.85,  test loss 5.496855, test error 57.12\n",
      "Epoch   800, train loss 0.276260, train error 10.03,  test loss 6.086119, test error 57.00\n",
      "Epoch   900, train loss 0.226688, train error 8.12,  test loss 6.662229, test error 56.95\n",
      "Training model with  45 hidden variables\n",
      "Epoch     0, train loss 2.063477, train error 77.82,  test loss 2.008633, test error 77.45\n",
      "Epoch   100, train loss 0.806618, train error 26.22,  test loss 1.535694, test error 50.78\n",
      "Epoch   200, train loss 0.498039, train error 15.72,  test loss 2.299429, test error 54.33\n",
      "Epoch   300, train loss 0.348542, train error 11.03,  test loss 3.373583, test error 56.62\n",
      "Epoch   400, train loss 0.245036, train error 7.40,  test loss 4.537450, test error 57.70\n",
      "Epoch   500, train loss 0.232814, train error 8.53,  test loss 5.715571, test error 56.97\n",
      "Epoch   600, train loss 0.222586, train error 7.75,  test loss 7.039904, test error 58.08\n",
      "Epoch   700, train loss 0.017010, train error 0.00,  test loss 8.239707, test error 58.83\n",
      "Epoch   800, train loss 0.010195, train error 0.00,  test loss 9.098646, test error 58.67\n",
      "Epoch   900, train loss 0.007146, train error 0.00,  test loss 9.730823, test error 58.92\n",
      "Training model with  50 hidden variables\n",
      "Epoch     0, train loss 2.087727, train error 78.78,  test loss 2.040107, test error 79.03\n",
      "Epoch   100, train loss 0.746145, train error 23.18,  test loss 1.642867, test error 51.10\n",
      "Epoch   200, train loss 0.355682, train error 9.75,  test loss 2.713704, test error 54.60\n",
      "Epoch   300, train loss 0.170990, train error 4.62,  test loss 4.316045, test error 56.00\n",
      "Epoch   400, train loss 0.033313, train error 0.00,  test loss 6.065389, test error 57.47\n",
      "Epoch   500, train loss 0.014592, train error 0.00,  test loss 7.164635, test error 57.67\n",
      "Epoch   600, train loss 0.008990, train error 0.00,  test loss 7.868853, test error 57.78\n",
      "Epoch   700, train loss 0.006394, train error 0.00,  test loss 8.400192, test error 57.85\n",
      "Epoch   800, train loss 0.004862, train error 0.00,  test loss 8.827810, test error 57.80\n",
      "Epoch   900, train loss 0.003921, train error 0.00,  test loss 9.171581, test error 57.75\n"
     ]
    }
   ],
   "source": [
    "# This code will take a while (~30 mins on GPU) to run!  Go and make a cup of coffee!\n",
    "\n",
    "hidden_variables = np.array([2,4,6,8,10,14,18,22,26,30,35,40,45,50])#,55,60,70,80,90,100,120,140,160,180,200,250,300,400]) ;\n",
    "errors_train_all = np.zeros_like(hidden_variables)\n",
    "errors_test_all = np.zeros_like(hidden_variables)\n",
    "\n",
    "# For each hidden variable size\n",
    "for c_hidden in range(len(hidden_variables)):\n",
    "    print(f'Training model with {hidden_variables[c_hidden]:3d} hidden variables')\n",
    "    # Get a model\n",
    "    model = get_model(hidden_variables[c_hidden]) ;\n",
    "    # Train the model\n",
    "    errors_train, errors_test = fit_model(model, data)\n",
    "    # Store the results\n",
    "    errors_train_all[c_hidden] = errors_train\n",
    "    errors_test_all[c_hidden]= errors_test"
   ]
  },
  {
   "cell_type": "code",
   "execution_count": 12,
   "metadata": {
    "id": "Rw-iRboTXbck",
    "tags": []
   },
   "outputs": [
    {
     "data": {
      "image/png": "[encoded data removed]",
      "text/plain": [
       "<Figure size 640x480 with 1 Axes>"
      ]
     },
     "metadata": {},
     "output_type": "display_data"
    }
   ],
   "source": [
    "# Plot the results\n",
    "fig, ax = plt.subplots()\n",
    "ax.plot(hidden_variables, errors_train_all,'r-',label='train')\n",
    "ax.plot(hidden_variables, errors_test_all,'b-',label='test')\n",
    "ax.set_ylim(0,100);\n",
    "ax.set_xlabel('No hidden variables'); ax.set_ylabel('Error')\n",
    "ax.legend()\n",
    "plt.show()\n"
   ]
  },
  {
   "cell_type": "code",
   "execution_count": null,
   "metadata": {},
   "outputs": [],
   "source": []
  }
 ],
 "metadata": {
  "accelerator": "GPU",
  "colab": {
   "authorship_tag": "ABX9TyN/KUpEObCKnHZ/4Onp5sHG",
   "gpuType": "T4",
   "include_colab_link": true,
   "provenance": []
  },
  "kernelspec": {
   "display_name": "Python 3 (ipykernel)",
   "language": "python",
   "name": "python3"
  },
  "language_info": {
   "codemirror_mode": {
    "name": "ipython",
    "version": 3
   },
   "file_extension": ".py",
   "mimetype": "text/x-python",
   "name": "python",
   "nbconvert_exporter": "python",
   "pygments_lexer": "ipython3",
   "version": "3.9.16"
  }
 },
 "nbformat": 4,
 "nbformat_minor": 4
}
