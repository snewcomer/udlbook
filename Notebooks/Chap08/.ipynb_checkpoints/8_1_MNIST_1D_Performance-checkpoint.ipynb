{
 "cells": [
  {
   "cell_type": "markdown",
   "metadata": {
    "colab_type": "text",
    "id": "view-in-github"
   },
   "source": [
    "<a href=\"https://colab.research.google.com/github/udlbook/udlbook/blob/main/Notebooks/Chap08/8_1_MNIST_1D_Performance.ipynb\" target=\"_parent\"><img src=\"https://colab.research.google.com/assets/colab-badge.svg\" alt=\"Open In Colab\"/></a>"
   ]
  },
  {
   "cell_type": "markdown",
   "metadata": {
    "id": "L6chybAVFJW2"
   },
   "source": [
    "# **Notebook 8.1: MNIST_1D_Performance**\n",
    "\n",
    "This notebook runs a simple neural network on the MNIST1D dataset as in figure 8.2a. It uses code from https://github.com/greydanus/mnist1d to generate the data.\n",
    "\n",
    "Work through the cells below, running each cell in turn. In various places you will see the words \"TO DO\". Follow the instructions at these places and make predictions about what is going to happen or write code to complete the functions.\n",
    "\n",
    "Contact me at udlbookmail@gmail.com if you find any mistakes or have any suggestions."
   ]
  },
  {
   "cell_type": "code",
   "execution_count": 1,
   "metadata": {
    "id": "ifVjS4cTOqKz"
   },
   "outputs": [
    {
     "name": "stdout",
     "output_type": "stream",
     "text": [
      "Cloning into 'mnist1d'...\n",
      "remote: Enumerating objects: 155, done.\u001b[K\n",
      "remote: Counting objects: 100% (155/155), done.\u001b[K\n",
      "remote: Compressing objects: 100% (129/129), done.\u001b[K\n",
      "remote: Total 155 (delta 52), reused 124 (delta 26), pack-reused 0\u001b[K\n",
      "Receiving objects: 100% (155/155), 6.48 MiB | 2.41 MiB/s, done.\n",
      "Resolving deltas: 100% (52/52), done.\n"
     ]
    }
   ],
   "source": [
    "# Run this if you're in a Colab to make a local copy of the MNIST 1D repository\n",
    "!git clone https://github.com/greydanus/mnist1d"
   ]
  },
  {
   "cell_type": "code",
   "execution_count": 2,
   "metadata": {
    "id": "qyE7G1StPIqO"
   },
   "outputs": [],
   "source": [
    "import torch, torch.nn as nn\n",
    "from torch.utils.data import TensorDataset, DataLoader\n",
    "from torch.optim.lr_scheduler import StepLR\n",
    "import numpy as np\n",
    "import matplotlib.pyplot as plt\n",
    "import mnist1d"
   ]
  },
  {
   "cell_type": "markdown",
   "metadata": {
    "id": "F7LNq72SP6jO"
   },
   "source": [
    "Let's generate a training and test dataset using the MNIST1D code.  The dataset gets saved as a .pkl file so it doesn't have to be regenerated each time."
   ]
  },
  {
   "cell_type": "code",
   "execution_count": 3,
   "metadata": {
    "id": "YLxf7dJfPaqw"
   },
   "outputs": [
    {
     "name": "stdout",
     "output_type": "stream",
     "text": [
      "Did or could not load data from ./mnist1d_data.pkl. Rebuilding dataset...\n",
      "Examples in training set: 4000\n",
      "Examples in test set: 1000\n",
      "Length of each example: 40\n"
     ]
    }
   ],
   "source": [
    "args = mnist1d.data.get_dataset_args()\n",
    "data = mnist1d.data.get_dataset(args, path='./mnist1d_data.pkl', download=False, regenerate=False)\n",
    "\n",
    "# The training and test input and outputs are in\n",
    "# data['x'], data['y'], data['x_test'], and data['y_test']\n",
    "print(\"Examples in training set: {}\".format(len(data['y'])))\n",
    "print(\"Examples in test set: {}\".format(len(data['y_test'])))\n",
    "print(\"Length of each example: {}\".format(data['x'].shape[-1]))"
   ]
  },
  {
   "cell_type": "code",
   "execution_count": 10,
   "metadata": {
    "id": "FxaB5vc0uevl"
   },
   "outputs": [
    {
     "data": {
      "text/plain": [
       "Sequential(\n",
       "  (0): Linear(in_features=40, out_features=100, bias=True)\n",
       "  (1): ReLU()\n",
       "  (2): Linear(in_features=100, out_features=100, bias=True)\n",
       "  (3): ReLU()\n",
       "  (4): Linear(in_features=100, out_features=100, bias=True)\n",
       "  (5): ReLU()\n",
       "  (6): Linear(in_features=100, out_features=10, bias=True)\n",
       ")"
      ]
     },
     "execution_count": 10,
     "metadata": {},
     "output_type": "execute_result"
    }
   ],
   "source": [
    "D_i = 40    # Input dimensions\n",
    "D_k = 100   # Hidden dimensions\n",
    "D_o = 10    # Output dimensions\n",
    "# TO DO:\n",
    "# Define a model with two hidden layers of size 100\n",
    "# And ReLU activations between them\n",
    "# Replace this line (see Figure 7.8 of book for help):\n",
    "model = torch.nn.Sequential(\n",
    "    torch.nn.Linear(D_i, D_k),\n",
    "    torch.nn.ReLU(),\n",
    "    torch.nn.Linear(D_k, D_k),\n",
    "    torch.nn.ReLU(), \n",
    "    torch.nn.Linear(D_k, D_o),    \n",
    ");\n",
    "\n",
    "def weights_init(layer_in):\n",
    "  # TO DO:\n",
    "  # Initialize the parameters with He initialization\n",
    "  # Replace this line (see figure 7.8 of book for help)\n",
    "  if isinstance(layer_in, nn.Linear):\n",
    "    nn.init.kaiming_uniform_(layer_in.weight)\n",
    "    layer_in.bias.data.fill_(0.0)\n",
    "\n",
    "\n",
    "# Call the function you just defined\n",
    "model.apply(weights_init)\n"
   ]
  },
  {
   "cell_type": "code",
   "execution_count": 19,
   "metadata": {
    "id": "_rX6N3VyyQTY"
   },
   "outputs": [
    {
     "name": "stdout",
     "output_type": "stream",
     "text": [
      "Epoch     0, train loss 1.621336, train error 63.90,  test loss 1.678792, test error 68.20\n",
      "Epoch     1, train loss 1.312418, train error 49.28,  test loss 1.455234, test error 56.30\n",
      "Epoch     2, train loss 1.083595, train error 40.58,  test loss 1.297853, test error 51.20\n",
      "Epoch     3, train loss 0.962368, train error 37.00,  test loss 1.274974, test error 48.80\n",
      "Epoch     4, train loss 0.784966, train error 27.43,  test loss 1.140243, test error 40.90\n",
      "Epoch     5, train loss 0.751532, train error 28.25,  test loss 1.180483, test error 44.30\n",
      "Epoch     6, train loss 0.628867, train error 23.12,  test loss 1.170076, test error 41.40\n",
      "Epoch     7, train loss 0.626074, train error 21.93,  test loss 1.174718, test error 41.10\n",
      "Epoch     8, train loss 0.453544, train error 15.53,  test loss 1.130904, test error 37.80\n",
      "Epoch     9, train loss 0.439653, train error 14.72,  test loss 1.136668, test error 37.70\n",
      "Epoch    10, train loss 0.259539, train error 7.07,  test loss 1.124108, test error 35.40\n",
      "Epoch    11, train loss 0.220031, train error 5.90,  test loss 1.127448, test error 34.80\n",
      "Epoch    12, train loss 0.163293, train error 3.38,  test loss 1.103934, test error 33.00\n",
      "Epoch    13, train loss 0.138397, train error 2.93,  test loss 1.147313, test error 34.30\n",
      "Epoch    14, train loss 0.115259, train error 1.93,  test loss 1.185024, test error 33.30\n",
      "Epoch    15, train loss 0.093727, train error 1.22,  test loss 1.263263, test error 35.50\n",
      "Epoch    16, train loss 0.083382, train error 0.80,  test loss 1.284121, test error 34.90\n",
      "Epoch    17, train loss 0.067342, train error 0.60,  test loss 1.308581, test error 34.10\n",
      "Epoch    18, train loss 0.046615, train error 0.07,  test loss 1.335779, test error 33.70\n",
      "Epoch    19, train loss 0.039664, train error 0.05,  test loss 1.375928, test error 33.80\n",
      "Epoch    20, train loss 0.030405, train error 0.00,  test loss 1.370454, test error 33.60\n",
      "Epoch    21, train loss 0.027668, train error 0.00,  test loss 1.407525, test error 33.30\n",
      "Epoch    22, train loss 0.025326, train error 0.00,  test loss 1.427188, test error 33.30\n",
      "Epoch    23, train loss 0.023614, train error 0.00,  test loss 1.435156, test error 33.30\n",
      "Epoch    24, train loss 0.022084, train error 0.00,  test loss 1.452538, test error 32.90\n",
      "Epoch    25, train loss 0.020676, train error 0.00,  test loss 1.467329, test error 33.10\n",
      "Epoch    26, train loss 0.019369, train error 0.00,  test loss 1.485681, test error 33.40\n",
      "Epoch    27, train loss 0.018280, train error 0.00,  test loss 1.495389, test error 33.20\n",
      "Epoch    28, train loss 0.017291, train error 0.00,  test loss 1.516278, test error 33.20\n",
      "Epoch    29, train loss 0.016527, train error 0.00,  test loss 1.532124, test error 33.20\n",
      "Epoch    30, train loss 0.015942, train error 0.00,  test loss 1.530083, test error 33.30\n",
      "Epoch    31, train loss 0.015517, train error 0.00,  test loss 1.542154, test error 33.20\n",
      "Epoch    32, train loss 0.015134, train error 0.00,  test loss 1.545959, test error 33.30\n",
      "Epoch    33, train loss 0.014767, train error 0.00,  test loss 1.550708, test error 33.00\n",
      "Epoch    34, train loss 0.014402, train error 0.00,  test loss 1.555787, test error 33.20\n",
      "Epoch    35, train loss 0.014068, train error 0.00,  test loss 1.560387, test error 33.10\n",
      "Epoch    36, train loss 0.013791, train error 0.00,  test loss 1.565053, test error 33.10\n",
      "Epoch    37, train loss 0.013458, train error 0.00,  test loss 1.573427, test error 33.10\n",
      "Epoch    38, train loss 0.013169, train error 0.00,  test loss 1.578967, test error 33.10\n",
      "Epoch    39, train loss 0.012893, train error 0.00,  test loss 1.584741, test error 33.20\n",
      "Epoch    40, train loss 0.012730, train error 0.00,  test loss 1.587717, test error 33.30\n",
      "Epoch    41, train loss 0.012597, train error 0.00,  test loss 1.590005, test error 33.30\n",
      "Epoch    42, train loss 0.012461, train error 0.00,  test loss 1.592310, test error 33.20\n",
      "Epoch    43, train loss 0.012336, train error 0.00,  test loss 1.595809, test error 33.30\n",
      "Epoch    44, train loss 0.012214, train error 0.00,  test loss 1.597380, test error 33.30\n",
      "Epoch    45, train loss 0.012085, train error 0.00,  test loss 1.600098, test error 33.30\n",
      "Epoch    46, train loss 0.011967, train error 0.00,  test loss 1.602465, test error 32.90\n",
      "Epoch    47, train loss 0.011847, train error 0.00,  test loss 1.604323, test error 33.00\n",
      "Epoch    48, train loss 0.011729, train error 0.00,  test loss 1.607711, test error 33.10\n",
      "Epoch    49, train loss 0.011634, train error 0.00,  test loss 1.608943, test error 32.90\n",
      "Epoch    50, train loss 0.011557, train error 0.00,  test loss 1.611843, test error 33.30\n",
      "Epoch    51, train loss 0.011502, train error 0.00,  test loss 1.612211, test error 33.10\n",
      "Epoch    52, train loss 0.011445, train error 0.00,  test loss 1.614137, test error 33.20\n",
      "Epoch    53, train loss 0.011391, train error 0.00,  test loss 1.616047, test error 33.10\n",
      "Epoch    54, train loss 0.011335, train error 0.00,  test loss 1.616644, test error 33.20\n",
      "Epoch    55, train loss 0.011281, train error 0.00,  test loss 1.617881, test error 33.10\n",
      "Epoch    56, train loss 0.011226, train error 0.00,  test loss 1.618850, test error 33.10\n",
      "Epoch    57, train loss 0.011175, train error 0.00,  test loss 1.619306, test error 33.10\n",
      "Epoch    58, train loss 0.011121, train error 0.00,  test loss 1.621564, test error 33.00\n",
      "Epoch    59, train loss 0.011070, train error 0.00,  test loss 1.622346, test error 33.00\n",
      "Epoch    60, train loss 0.011043, train error 0.00,  test loss 1.623681, test error 33.10\n",
      "Epoch    61, train loss 0.011017, train error 0.00,  test loss 1.623667, test error 33.00\n",
      "Epoch    62, train loss 0.010991, train error 0.00,  test loss 1.624356, test error 33.10\n",
      "Epoch    63, train loss 0.010966, train error 0.00,  test loss 1.624881, test error 33.00\n",
      "Epoch    64, train loss 0.010940, train error 0.00,  test loss 1.625695, test error 33.10\n",
      "Epoch    65, train loss 0.010915, train error 0.00,  test loss 1.626064, test error 33.00\n",
      "Epoch    66, train loss 0.010889, train error 0.00,  test loss 1.626521, test error 33.10\n",
      "Epoch    67, train loss 0.010865, train error 0.00,  test loss 1.627304, test error 33.00\n",
      "Epoch    68, train loss 0.010839, train error 0.00,  test loss 1.627963, test error 33.00\n",
      "Epoch    69, train loss 0.010815, train error 0.00,  test loss 1.628403, test error 33.00\n",
      "Epoch    70, train loss 0.010802, train error 0.00,  test loss 1.628748, test error 33.00\n",
      "Epoch    71, train loss 0.010789, train error 0.00,  test loss 1.629035, test error 33.00\n",
      "Epoch    72, train loss 0.010777, train error 0.00,  test loss 1.629491, test error 33.00\n",
      "Epoch    73, train loss 0.010764, train error 0.00,  test loss 1.629720, test error 33.00\n",
      "Epoch    74, train loss 0.010752, train error 0.00,  test loss 1.630069, test error 33.00\n",
      "Epoch    75, train loss 0.010740, train error 0.00,  test loss 1.630161, test error 33.00\n",
      "Epoch    76, train loss 0.010728, train error 0.00,  test loss 1.630586, test error 33.00\n",
      "Epoch    77, train loss 0.010716, train error 0.00,  test loss 1.630755, test error 33.00\n",
      "Epoch    78, train loss 0.010703, train error 0.00,  test loss 1.631066, test error 33.00\n",
      "Epoch    79, train loss 0.010691, train error 0.00,  test loss 1.631381, test error 33.00\n",
      "Epoch    80, train loss 0.010685, train error 0.00,  test loss 1.631624, test error 33.00\n",
      "Epoch    81, train loss 0.010679, train error 0.00,  test loss 1.631662, test error 33.00\n",
      "Epoch    82, train loss 0.010673, train error 0.00,  test loss 1.631917, test error 33.00\n",
      "Epoch    83, train loss 0.010667, train error 0.00,  test loss 1.632050, test error 33.00\n",
      "Epoch    84, train loss 0.010661, train error 0.00,  test loss 1.632167, test error 33.00\n",
      "Epoch    85, train loss 0.010655, train error 0.00,  test loss 1.632287, test error 33.00\n",
      "Epoch    86, train loss 0.010649, train error 0.00,  test loss 1.632479, test error 33.00\n",
      "Epoch    87, train loss 0.010643, train error 0.00,  test loss 1.632692, test error 33.00\n",
      "Epoch    88, train loss 0.010637, train error 0.00,  test loss 1.632802, test error 33.00\n",
      "Epoch    89, train loss 0.010631, train error 0.00,  test loss 1.632861, test error 33.00\n",
      "Epoch    90, train loss 0.010627, train error 0.00,  test loss 1.633014, test error 33.00\n",
      "Epoch    91, train loss 0.010624, train error 0.00,  test loss 1.633072, test error 33.00\n",
      "Epoch    92, train loss 0.010621, train error 0.00,  test loss 1.633133, test error 33.00\n",
      "Epoch    93, train loss 0.010618, train error 0.00,  test loss 1.633267, test error 33.00\n",
      "Epoch    94, train loss 0.010615, train error 0.00,  test loss 1.633303, test error 33.00\n",
      "Epoch    95, train loss 0.010612, train error 0.00,  test loss 1.633377, test error 33.00\n",
      "Epoch    96, train loss 0.010609, train error 0.00,  test loss 1.633444, test error 33.00\n",
      "Epoch    97, train loss 0.010606, train error 0.00,  test loss 1.633513, test error 33.00\n",
      "Epoch    98, train loss 0.010603, train error 0.00,  test loss 1.633599, test error 33.00\n",
      "Epoch    99, train loss 0.010600, train error 0.00,  test loss 1.633683, test error 33.00\n",
      "Epoch   100, train loss 0.010599, train error 0.00,  test loss 1.633728, test error 33.00\n",
      "Epoch   101, train loss 0.010597, train error 0.00,  test loss 1.633723, test error 33.00\n",
      "Epoch   102, train loss 0.010596, train error 0.00,  test loss 1.633797, test error 33.00\n",
      "Epoch   103, train loss 0.010594, train error 0.00,  test loss 1.633824, test error 33.00\n",
      "Epoch   104, train loss 0.010593, train error 0.00,  test loss 1.633891, test error 33.00\n",
      "Epoch   105, train loss 0.010591, train error 0.00,  test loss 1.633902, test error 33.00\n",
      "Epoch   106, train loss 0.010590, train error 0.00,  test loss 1.633955, test error 33.00\n",
      "Epoch   107, train loss 0.010588, train error 0.00,  test loss 1.633968, test error 33.00\n",
      "Epoch   108, train loss 0.010587, train error 0.00,  test loss 1.633991, test error 33.00\n",
      "Epoch   109, train loss 0.010586, train error 0.00,  test loss 1.634055, test error 33.00\n",
      "Epoch   110, train loss 0.010585, train error 0.00,  test loss 1.634081, test error 33.00\n",
      "Epoch   111, train loss 0.010584, train error 0.00,  test loss 1.634087, test error 33.00\n",
      "Epoch   112, train loss 0.010583, train error 0.00,  test loss 1.634111, test error 33.00\n",
      "Epoch   113, train loss 0.010583, train error 0.00,  test loss 1.634115, test error 33.00\n",
      "Epoch   114, train loss 0.010582, train error 0.00,  test loss 1.634146, test error 33.00\n",
      "Epoch   115, train loss 0.010581, train error 0.00,  test loss 1.634164, test error 33.00\n",
      "Epoch   116, train loss 0.010580, train error 0.00,  test loss 1.634173, test error 33.00\n",
      "Epoch   117, train loss 0.010580, train error 0.00,  test loss 1.634198, test error 33.00\n",
      "Epoch   118, train loss 0.010579, train error 0.00,  test loss 1.634220, test error 33.00\n",
      "Epoch   119, train loss 0.010578, train error 0.00,  test loss 1.634241, test error 33.00\n",
      "Epoch   120, train loss 0.010578, train error 0.00,  test loss 1.634241, test error 33.00\n",
      "Epoch   121, train loss 0.010577, train error 0.00,  test loss 1.634254, test error 33.00\n",
      "Epoch   122, train loss 0.010577, train error 0.00,  test loss 1.634266, test error 33.00\n",
      "Epoch   123, train loss 0.010577, train error 0.00,  test loss 1.634275, test error 33.00\n",
      "Epoch   124, train loss 0.010576, train error 0.00,  test loss 1.634283, test error 33.00\n",
      "Epoch   125, train loss 0.010576, train error 0.00,  test loss 1.634289, test error 33.00\n",
      "Epoch   126, train loss 0.010575, train error 0.00,  test loss 1.634300, test error 33.00\n",
      "Epoch   127, train loss 0.010575, train error 0.00,  test loss 1.634310, test error 33.00\n",
      "Epoch   128, train loss 0.010575, train error 0.00,  test loss 1.634317, test error 33.00\n",
      "Epoch   129, train loss 0.010574, train error 0.00,  test loss 1.634330, test error 33.00\n",
      "Epoch   130, train loss 0.010574, train error 0.00,  test loss 1.634333, test error 33.00\n",
      "Epoch   131, train loss 0.010574, train error 0.00,  test loss 1.634338, test error 33.00\n",
      "Epoch   132, train loss 0.010574, train error 0.00,  test loss 1.634342, test error 33.00\n",
      "Epoch   133, train loss 0.010574, train error 0.00,  test loss 1.634346, test error 33.00\n",
      "Epoch   134, train loss 0.010574, train error 0.00,  test loss 1.634351, test error 33.00\n",
      "Epoch   135, train loss 0.010573, train error 0.00,  test loss 1.634354, test error 33.00\n",
      "Epoch   136, train loss 0.010573, train error 0.00,  test loss 1.634359, test error 33.00\n",
      "Epoch   137, train loss 0.010573, train error 0.00,  test loss 1.634363, test error 33.00\n",
      "Epoch   138, train loss 0.010573, train error 0.00,  test loss 1.634367, test error 33.00\n",
      "Epoch   139, train loss 0.010573, train error 0.00,  test loss 1.634371, test error 33.00\n",
      "Epoch   140, train loss 0.010573, train error 0.00,  test loss 1.634372, test error 33.00\n",
      "Epoch   141, train loss 0.010573, train error 0.00,  test loss 1.634372, test error 33.00\n",
      "Epoch   142, train loss 0.010573, train error 0.00,  test loss 1.634375, test error 33.00\n",
      "Epoch   143, train loss 0.010573, train error 0.00,  test loss 1.634375, test error 33.00\n",
      "Epoch   144, train loss 0.010573, train error 0.00,  test loss 1.634377, test error 33.00\n",
      "Epoch   145, train loss 0.010573, train error 0.00,  test loss 1.634378, test error 33.00\n",
      "Epoch   146, train loss 0.010573, train error 0.00,  test loss 1.634379, test error 33.00\n",
      "Epoch   147, train loss 0.010573, train error 0.00,  test loss 1.634379, test error 33.00\n",
      "Epoch   148, train loss 0.010572, train error 0.00,  test loss 1.634381, test error 33.00\n",
      "Epoch   149, train loss 0.010572, train error 0.00,  test loss 1.634381, test error 33.00\n"
     ]
    }
   ],
   "source": [
    "# choose cross entropy loss function (equation 5.24)\n",
    "loss_function = torch.nn.CrossEntropyLoss()\n",
    "# construct SGD optimizer and initialize learning rate and momentum\n",
    "optimizer = torch.optim.SGD(model.parameters(), lr = 0.05, momentum=0.9)\n",
    "# object that decreases learning rate by half every 10 epochs\n",
    "scheduler = StepLR(optimizer, step_size=10, gamma=0.5)\n",
    "# create 100 dummy data points and store in data loader class\n",
    "x_train = torch.tensor(data['x'].astype('float32'))\n",
    "y_train = torch.tensor(data['y'].transpose().astype('long'))\n",
    "x_test= torch.tensor(data['x_test'].astype('float32'))\n",
    "y_test = torch.tensor(data['y_test'].astype('long'))\n",
    "\n",
    "# load the data into a class that creates the batches\n",
    "data_loader = DataLoader(TensorDataset(x_train,y_train), batch_size=100, shuffle=True, worker_init_fn=np.random.seed(1))\n",
    "\n",
    "# Initialize model weights\n",
    "model.apply(weights_init)\n",
    "\n",
    "# loop over the dataset n_epoch times\n",
    "n_epoch = 100\n",
    "# store the loss and the % correct at each epoch\n",
    "losses_train = np.zeros((n_epoch))\n",
    "errors_train = np.zeros((n_epoch))\n",
    "losses_test = np.zeros((n_epoch))\n",
    "errors_test = np.zeros((n_epoch))\n",
    "\n",
    "for epoch in range(n_epoch):\n",
    "  # loop over batches\n",
    "  for i, batch in enumerate(data_loader):\n",
    "    # retrieve inputs and labels for this batch\n",
    "    x_batch, y_batch = batch\n",
    "    # zero the parameter gradients\n",
    "    optimizer.zero_grad()\n",
    "    # forward pass -- calculate model output\n",
    "    pred = model(x_batch)\n",
    "    # compute the loss\n",
    "    loss = loss_function(pred, y_batch)\n",
    "    # backward pass\n",
    "    loss.backward()\n",
    "    # SGD update\n",
    "    optimizer.step()\n",
    "\n",
    "  # Run whole dataset to get statistics -- normally wouldn't do this\n",
    "  pred_train = model(x_train)\n",
    "  pred_test = model(x_test)\n",
    "  _, predicted_train_class = torch.max(pred_train.data, 1)\n",
    "  _, predicted_test_class = torch.max(pred_test.data, 1)\n",
    "  errors_train[epoch] = 100 - 100 * (predicted_train_class == y_train).float().sum() / len(y_train)\n",
    "  errors_test[epoch]= 100 - 100 * (predicted_test_class == y_test).float().sum() / len(y_test)\n",
    "  losses_train[epoch] = loss_function(pred_train, y_train).item()\n",
    "  losses_test[epoch]= loss_function(pred_test, y_test).item()\n",
    "  print(f'Epoch {epoch:5d}, train loss {losses_train[epoch]:.6f}, train error {errors_train[epoch]:3.2f},  test loss {losses_test[epoch]:.6f}, test error {errors_test[epoch]:3.2f}')\n",
    "\n",
    "  # tell scheduler to consider updating learning rate\n",
    "  scheduler.step()"
   ]
  },
  {
   "cell_type": "code",
   "execution_count": 18,
   "metadata": {
    "id": "yI-l6kA_EH9G"
   },
   "outputs": [
    {
     "data": {
      "image/png": "[encoded data removed]",
      "text/plain": [
       "<Figure size 640x480 with 1 Axes>"
      ]
     },
     "metadata": {},
     "output_type": "display_data"
    },
    {
     "data": {
      "image/png": "[encoded data removed]",
      "text/plain": [
       "<Figure size 640x480 with 1 Axes>"
      ]
     },
     "metadata": {},
     "output_type": "display_data"
    }
   ],
   "source": [
    "# Plot the results\n",
    "fig, ax = plt.subplots()\n",
    "ax.plot(errors_train,'r-',label='train')\n",
    "ax.plot(errors_test,'b-',label='test')\n",
    "ax.set_ylim(0,100); ax.set_xlim(0,n_epoch)\n",
    "ax.set_xlabel('Epoch'); ax.set_ylabel('Error')\n",
    "ax.set_title('TrainError %3.2f, Test Error %3.2f'%(errors_train[-1],errors_test[-1]))\n",
    "ax.legend()\n",
    "plt.show()\n",
    "\n",
    "# Plot the results\n",
    "fig, ax = plt.subplots()\n",
    "ax.plot(losses_train,'r-',label='train')\n",
    "ax.plot(losses_test,'b-',label='test')\n",
    "ax.set_xlim(0,n_epoch)\n",
    "ax.set_xlabel('Epoch'); ax.set_ylabel('Loss')\n",
    "ax.set_title('Train loss %3.2f, Test loss %3.2f'%(losses_train[-1],losses_test[-1]))\n",
    "ax.legend()\n",
    "plt.show()"
   ]
  },
  {
   "cell_type": "markdown",
   "metadata": {
    "id": "q-yT6re6GZS4"
   },
   "source": [
    "**TO DO**\n",
    "\n",
    "Play with the model -- try changing the number of layers, hidden units, learning rate, batch size, momentum or anything else you like.  See if you can improve the test results.\n",
    "\n",
    "Is it a good idea to optimize the hyperparameters in this way?  Will the final result be a good estimate of the true test performance?"
   ]
  },
  {
   "cell_type": "code",
   "execution_count": null,
   "metadata": {},
   "outputs": [],
   "source": []
  },
  {
   "cell_type": "code",
   "execution_count": null,
   "metadata": {},
   "outputs": [],
   "source": []
  },
  {
   "cell_type": "code",
   "execution_count": null,
   "metadata": {},
   "outputs": [],
   "source": []
  }
 ],
 "metadata": {
  "accelerator": "GPU",
  "colab": {
   "authorship_tag": "ABX9TyNLj3HOpVB87nRu7oSLuBaU",
   "gpuType": "T4",
   "include_colab_link": true,
   "provenance": []
  },
  "kernelspec": {
   "display_name": "Python 3 (ipykernel)",
   "language": "python",
   "name": "python3"
  },
  "language_info": {
   "codemirror_mode": {
    "name": "ipython",
    "version": 3
   },
   "file_extension": ".py",
   "mimetype": "text/x-python",
   "name": "python",
   "nbconvert_exporter": "python",
   "pygments_lexer": "ipython3",
   "version": "3.9.16"
  }
 },
 "nbformat": 4,
 "nbformat_minor": 4
}
